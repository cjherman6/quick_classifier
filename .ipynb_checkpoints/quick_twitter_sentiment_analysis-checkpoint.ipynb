{
 "cells": [
  {
   "cell_type": "code",
   "execution_count": 1,
   "metadata": {},
   "outputs": [],
   "source": [
    "import os\n",
    "import tweepy\n",
    "from textblob import TextBlob"
   ]
  },
  {
   "cell_type": "code",
   "execution_count": 2,
   "metadata": {},
   "outputs": [],
   "source": [
    "#Login info\n",
    "consumer_key = os.environ['TWITTER_API_KEY']\n",
    "consumer_secret = os.environ['TWITTER_API_SECRET_KEY']\n",
    "access_token = os.environ['TWITTER_ACCESS_TOKEN']\n",
    "access_token_secret = os.environ['TWITTER_ACCESS_TOKEN_SECRET']"
   ]
  },
  {
   "cell_type": "code",
   "execution_count": 3,
   "metadata": {},
   "outputs": [],
   "source": [
    "auth = tweepy.OAuthHandler(consumer_key,consumer_secret)\n",
    "auth.set_access_token(access_token,access_token_secret)"
   ]
  },
  {
   "cell_type": "code",
   "execution_count": 4,
   "metadata": {},
   "outputs": [],
   "source": [
    "api = tweepy.API(auth)"
   ]
  },
  {
   "cell_type": "code",
   "execution_count": 5,
   "metadata": {},
   "outputs": [],
   "source": [
    "public_tweets = api.search('climate change')"
   ]
  },
  {
   "cell_type": "code",
   "execution_count": 20,
   "metadata": {},
   "outputs": [
    {
     "name": "stdout",
     "output_type": "stream",
     "text": [
      "===========TEXT===========\n",
      "RT @WHO: The 🌍 is facing multiple health challenges.\n",
      "\n",
      "10 health issues WHO will tackle in 2019:\n",
      "1⃣Air pollution &amp; Climate change\n",
      "2⃣Noncommu…\n",
      "===========ANALYSIS===========\n",
      "Sentiment(polarity=0.0, subjectivity=0.0)\n",
      "======================\n",
      " \n",
      "===========TEXT===========\n",
      "RT @B_Ehrenreich: My son Ben's first column on climate change for The Nation. WAY beyond all the technocratic mumbo jumbo!\n",
      "\n",
      "https://t.co/6Z…\n",
      "===========ANALYSIS===========\n",
      "Sentiment(polarity=0.3125, subjectivity=0.3333333333333333)\n",
      "======================\n",
      " \n",
      "===========TEXT===========\n",
      "RT @TheAgenda: If you find the news about climate change distressing, imagine how climate scientists feel. Tonight on The Agenda, a convers…\n",
      "===========ANALYSIS===========\n",
      "Sentiment(polarity=0.0, subjectivity=0.0)\n",
      "======================\n",
      " \n",
      "===========TEXT===========\n",
      "@nytimes It's probably too late to do anything about climate change and rising seas. Coastal communities should put… https://t.co/4kWk9Zrzp8\n",
      "===========ANALYSIS===========\n",
      "Sentiment(polarity=-0.3, subjectivity=0.6)\n",
      "======================\n",
      " \n",
      "===========TEXT===========\n",
      "Cities Are Tucking Climate Change Fixes Into New Laws https://t.co/2flWUxgwGu via @WIRED\n",
      "===========ANALYSIS===========\n",
      "Sentiment(polarity=0.13636363636363635, subjectivity=0.45454545454545453)\n",
      "======================\n",
      " \n",
      "===========TEXT===========\n",
      "@DarthTater04 @GQMagazine Yeah, you seem like a super standup guy. Also a Trump supporting climate change denier, h… https://t.co/jpYlucPz6y\n",
      "===========ANALYSIS===========\n",
      "Sentiment(polarity=0.29166666666666663, subjectivity=0.4583333333333333)\n",
      "======================\n",
      " \n",
      "===========TEXT===========\n",
      "RT @ThomsenJorgen: PG&amp;E may be a wake up call for other businesses threatened by the effects of climate change https://t.co/FC4yDOJ06U via…\n",
      "===========ANALYSIS===========\n",
      "Sentiment(polarity=-0.125, subjectivity=0.375)\n",
      "======================\n",
      " \n",
      "===========TEXT===========\n",
      "RT @curaffairs: there are no conservative solutions to climate change. https://t.co/lv06Q6mItR\n",
      "===========ANALYSIS===========\n",
      "Sentiment(polarity=0.0, subjectivity=0.0)\n",
      "======================\n",
      " \n",
      "===========TEXT===========\n",
      "RT @MehreenFaruqi: Alex Ross-King was 19. Joseph Pham was 23. Diana Nguyen was 21. Callum Brosnan was 19. Josh Tam was 22.\n",
      "\n",
      "They all died t…\n",
      "===========ANALYSIS===========\n",
      "Sentiment(polarity=0.0, subjectivity=0.0)\n",
      "======================\n",
      " \n",
      "===========TEXT===========\n",
      "https://t.co/1dYqENJnUX\n",
      "===========ANALYSIS===========\n",
      "Sentiment(polarity=0.0, subjectivity=0.0)\n",
      "======================\n",
      " \n",
      "===========TEXT===========\n",
      "RT @IndigenousX: There are several issues confronted by First Nations in Australia: incarceration rates &gt;, stolen generations, water &amp; clim…\n",
      "===========ANALYSIS===========\n",
      "Sentiment(polarity=0.125, subjectivity=0.16666666666666666)\n",
      "======================\n",
      " \n",
      "===========TEXT===========\n",
      "What absolute Bull Shit . (/600% )Australians produce less Co2 than Beijing &amp; Shanghai put together. Go tell the Ch… https://t.co/hT7UfDp5em\n",
      "===========ANALYSIS===========\n",
      "Sentiment(polarity=-0.05555555555555555, subjectivity=0.5888888888888889)\n",
      "======================\n",
      " \n",
      "===========TEXT===========\n",
      "RT @NatGeo: A conservation biology professor, Joel Berger takes us on a journey to some of the most remote places on the planet, and some o…\n",
      "===========ANALYSIS===========\n",
      "Sentiment(polarity=0.2, subjectivity=0.35)\n",
      "======================\n",
      " \n",
      "===========TEXT===========\n",
      "RT @janet_rice: “We are basically saying we can’t build anything now that emits fossil fuels.”\n",
      "\n",
      "We can do this. Come on  Labor and Liberal.…\n",
      "===========ANALYSIS===========\n",
      "Sentiment(polarity=0.0, subjectivity=0.0)\n",
      "======================\n",
      " \n",
      "===========TEXT===========\n",
      "RT @MotherJones: Trump's nominee to replace Kavanaugh wrote that date rape victims were partly responsible if they'd been drinking https://…\n",
      "===========ANALYSIS===========\n",
      "Sentiment(polarity=0.2, subjectivity=0.55)\n",
      "======================\n",
      " \n",
      "Average Sentiment: 0.05233164983164983\n"
     ]
    }
   ],
   "source": [
    "total_sentiment = []\n",
    "total_tweets = 0\n",
    "\n",
    "for tweet in public_tweets:\n",
    "    print('===========TEXT===========')\n",
    "    print(tweet.text)\n",
    "    analysis = TextBlob(tweet.text)\n",
    "    print('===========ANALYSIS===========')\n",
    "    print(analysis.sentiment)\n",
    "    print('======================')\n",
    "    print(' ')\n",
    "    total_sentiment.append(analysis.sentiment[0])\n",
    "    total_tweets += 1\n",
    "print('Average Sentiment: {}'.format(sum(total_sentiment)/total_tweets))"
   ]
  },
  {
   "cell_type": "code",
   "execution_count": 10,
   "metadata": {},
   "outputs": [],
   "source": [
    "text = TextBlob(\"I fucking hate it so much it fucking pisses me off\")"
   ]
  },
  {
   "cell_type": "code",
   "execution_count": 12,
   "metadata": {},
   "outputs": [
    {
     "data": {
      "text/plain": [
       "Sentiment(polarity=-0.7, subjectivity=0.8500000000000001)"
      ]
     },
     "execution_count": 12,
     "metadata": {},
     "output_type": "execute_result"
    }
   ],
   "source": [
    "text.sentiment"
   ]
  },
  {
   "cell_type": "code",
   "execution_count": 13,
   "metadata": {},
   "outputs": [
    {
     "data": {
      "text/plain": [
       "-0.7"
      ]
     },
     "execution_count": 13,
     "metadata": {},
     "output_type": "execute_result"
    }
   ],
   "source": [
    "text.sentiment[0]"
   ]
  },
  {
   "cell_type": "code",
   "execution_count": 14,
   "metadata": {},
   "outputs": [
    {
     "data": {
      "text/plain": [
       "0.8500000000000001"
      ]
     },
     "execution_count": 14,
     "metadata": {},
     "output_type": "execute_result"
    }
   ],
   "source": [
    "text.sentiment[1]"
   ]
  },
  {
   "cell_type": "code",
   "execution_count": 15,
   "metadata": {},
   "outputs": [],
   "source": [
    "text = TextBlob(\"I love it so much it makes me so happy\")"
   ]
  },
  {
   "cell_type": "code",
   "execution_count": 16,
   "metadata": {},
   "outputs": [
    {
     "data": {
      "text/plain": [
       "Sentiment(polarity=0.5, subjectivity=0.6)"
      ]
     },
     "execution_count": 16,
     "metadata": {},
     "output_type": "execute_result"
    }
   ],
   "source": [
    "text.sentiment"
   ]
  },
  {
   "cell_type": "code",
   "execution_count": null,
   "metadata": {},
   "outputs": [],
   "source": []
  }
 ],
 "metadata": {
  "kernelspec": {
   "display_name": "Python 3",
   "language": "python",
   "name": "python3"
  },
  "language_info": {
   "codemirror_mode": {
    "name": "ipython",
    "version": 3
   },
   "file_extension": ".py",
   "mimetype": "text/x-python",
   "name": "python",
   "nbconvert_exporter": "python",
   "pygments_lexer": "ipython3",
   "version": "3.6.5"
  }
 },
 "nbformat": 4,
 "nbformat_minor": 2
}
