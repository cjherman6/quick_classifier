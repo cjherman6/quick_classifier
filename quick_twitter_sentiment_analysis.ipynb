{
 "cells": [
  {
   "cell_type": "code",
   "execution_count": 8,
   "metadata": {},
   "outputs": [],
   "source": [
    "import os\n",
    "import tweepy\n",
    "from textblob import TextBlob"
   ]
  },
  {
   "cell_type": "code",
   "execution_count": 9,
   "metadata": {},
   "outputs": [],
   "source": [
    "#Login info\n",
    "consumer_key = os.environ['TWITTER_API_KEY']\n",
    "consumer_secret = os.environ['TWITTER_API_SECRET_KEY']\n",
    "access_token = os.environ['TWITTER_ACCESS_TOKEN']\n",
    "access_token_secret = os.environ['TWITTER_ACCESS_TOKEN_SECRET']"
   ]
  },
  {
   "cell_type": "code",
   "execution_count": 10,
   "metadata": {},
   "outputs": [],
   "source": [
    "auth = tweepy.OAuthHandler(consumer_key,consumer_secret)\n",
    "auth.set_access_token(access_token,access_token_secret)"
   ]
  },
  {
   "cell_type": "code",
   "execution_count": 11,
   "metadata": {},
   "outputs": [],
   "source": [
    "api = tweepy.API(auth)"
   ]
  },
  {
   "cell_type": "code",
   "execution_count": 14,
   "metadata": {},
   "outputs": [],
   "source": [
    "public_tweets = api.search('trump')"
   ]
  },
  {
   "cell_type": "code",
   "execution_count": 15,
   "metadata": {},
   "outputs": [
    {
     "name": "stdout",
     "output_type": "stream",
     "text": [
      "RT @krassenstein: In a speech today, which sounded as if he was drunk, Trump read the teleprompter which said “Chilton ranch” as “Clinton r…\n",
      "Sentiment(polarity=-0.5, subjectivity=1.0)\n",
      "RT @dbongino: Make no mistake, this past week’s “bombshell” report about the FBI targeting President Trump has absolutely confirmed that th…\n",
      "Sentiment(polarity=0.07500000000000001, subjectivity=0.625)\n",
      "RT @BFriedmanDC: Yet again, Republicans, led by the Trump administration, find themselves aligned with the Russians and Chinese instead of…\n",
      "Sentiment(polarity=0.0, subjectivity=0.0)\n",
      "RT @TrueFactsStated: Fight Fascism. Stop Trump. https://t.co/ArQPWBWlm0\n",
      "Sentiment(polarity=0.0, subjectivity=0.0)\n",
      "Our country is suffering from an unbalanced mad man.  Trump is the worst combination of indifference, ignorance, and vanity.\n",
      "Sentiment(polarity=-0.8125, subjectivity=1.0)\n",
      "RT @rothschildmd: Barack Obama had Chicago style pizza and hot dogs flown in for his 2009 Super Bowl party and the far right thought he was…\n",
      "Sentiment(polarity=0.24226190476190473, subjectivity=0.763095238095238)\n",
      "Thanks, Trump! TSA Slips Up Big Time. Woman Boards Plane With Gun and Ammunition in Atlanta. https://t.co/2NcDsFCobm\n",
      "Sentiment(polarity=0.125, subjectivity=0.15000000000000002)\n",
      "@vdare No. Bolton is steering himself into his next career outside the Trump Administration (ever the optimist am I).\n",
      "Sentiment(polarity=0.0, subjectivity=0.025)\n",
      "RT @HillReporter: Trump Tweets That he is Going to Tennessee Today, But he’s Not\n",
      "\n",
      "https://t.co/LJYhpEji44\n",
      "Sentiment(polarity=0.0, subjectivity=0.0)\n",
      "RT @The_Trump_Train: Trump responds to Ocasio-Cortez calling him a racist:\n",
      "\n",
      "Reporter: “Mr. President, congresswoman Ocasio-Cortez called yo…\n",
      "Sentiment(polarity=0.0, subjectivity=0.0)\n",
      "RT @Cordicon: Corrupt Obama Deep State Applied for More than One FISA Warrant to Spy on Trump Team Including Newly Uncovered Bogus 'Dragon…\n",
      "Sentiment(polarity=0.03409090909090909, subjectivity=0.5886363636363636)\n",
      "Definitely were down to the C team! #MAGA ⁦@MickMulvaneyOMB⁩  Old land deal quietly haunts Mick Mulvaney as he serv… https://t.co/y4NdVoMMct\n",
      "Sentiment(polarity=-0.023611111111111117, subjectivity=0.33055555555555555)\n",
      "So Tommy Cotton received support from the Russians who have infiltrated the NRA? This guy is just another rat on th… https://t.co/XDPiUx23q5\n",
      "Sentiment(polarity=0.0, subjectivity=0.0)\n",
      "RT @GloboNews: Donald Trump cita Bolsonaro e faz elogio ao brasileiro: https://t.co/rPxA83vSbT #GloboNews https://t.co/DKuUHa9e3q\n",
      "Sentiment(polarity=0.0, subjectivity=0.0)\n",
      "RT @dabeard: Judge scraps #Trump would that would have made it more expensive for women to obtain birth control. “Employers have no busines…\n",
      "Sentiment(polarity=0.0, subjectivity=0.6)\n"
     ]
    }
   ],
   "source": [
    "for tweet in public_tweets:\n",
    "    print(tweet.text)\n",
    "    analysis = TextBlob(tweet.text)\n",
    "    print(analysis.sentiment)"
   ]
  },
  {
   "cell_type": "code",
   "execution_count": null,
   "metadata": {},
   "outputs": [],
   "source": []
  }
 ],
 "metadata": {
  "kernelspec": {
   "display_name": "Python 3",
   "language": "python",
   "name": "python3"
  },
  "language_info": {
   "codemirror_mode": {
    "name": "ipython",
    "version": 3
   },
   "file_extension": ".py",
   "mimetype": "text/x-python",
   "name": "python",
   "nbconvert_exporter": "python",
   "pygments_lexer": "ipython3",
   "version": "3.6.5"
  }
 },
 "nbformat": 4,
 "nbformat_minor": 2
}
