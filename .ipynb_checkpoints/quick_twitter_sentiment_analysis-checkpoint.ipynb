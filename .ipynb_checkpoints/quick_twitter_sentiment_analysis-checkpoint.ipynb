{
 "cells": [
  {
   "cell_type": "code",
   "execution_count": 3,
   "metadata": {},
   "outputs": [],
   "source": [
    "import os\n",
    "import tweepy\n",
    "from textblob import TextBlob"
   ]
  },
  {
   "cell_type": "code",
   "execution_count": 4,
   "metadata": {},
   "outputs": [],
   "source": [
    "#Login info\n",
    "consumer_key = os.environ['TWITTER_API_KEY']\n",
    "consumer_secret = os.environ['TWITTER_API_SECRET_KEY']\n",
    "access_token = os.environ['TWITTER_ACCESS_TOKEN']\n",
    "access_token_secret = os.environ['TWITTER_ACCESS_TOKEN_SECRET']"
   ]
  },
  {
   "cell_type": "code",
   "execution_count": 5,
   "metadata": {},
   "outputs": [],
   "source": [
    "auth = tweepy.OAuthHandler(consumer_key,consumer_secret)\n",
    "auth.set_access_token(access_token,access_token_secret)"
   ]
  },
  {
   "cell_type": "code",
   "execution_count": 6,
   "metadata": {},
   "outputs": [],
   "source": [
    "api = tweepy.API(auth)"
   ]
  },
  {
   "cell_type": "code",
   "execution_count": 12,
   "metadata": {},
   "outputs": [],
   "source": [
    "public_tweets = api.search('eagles')"
   ]
  },
  {
   "cell_type": "code",
   "execution_count": 13,
   "metadata": {},
   "outputs": [
    {
     "name": "stdout",
     "output_type": "stream",
     "text": [
      "===========TEXT===========\n",
      "@noKAIN_noGAIN @Eagles Whatever you do, don’t look at the list that 6abc posted about the potential players not coming back 😭😭\n",
      "===========ANALYSIS===========\n",
      "Sentiment(polarity=0.0, subjectivity=0.5)\n",
      "======================\n",
      " \n",
      "===========TEXT===========\n",
      "RT @Saints: Jan. 13, 2007:\n",
      "Saints defeat the Eagles to advance the NFC Championship game!\n",
      " \n",
      "Jan. 13, 2019:\n",
      "Saints defeat the Eagles to adva…\n",
      "===========ANALYSIS===========\n",
      "Sentiment(polarity=-0.5, subjectivity=0.4)\n",
      "======================\n",
      " \n",
      "===========TEXT===========\n",
      "RT @RPritt: Two consecutive effective offensive sets by SC, lord knows there haven’t been many, end up in buckets for Cuffee and Potter. Br…\n",
      "===========ANALYSIS===========\n",
      "Sentiment(polarity=0.55, subjectivity=0.65)\n",
      "======================\n",
      " \n",
      "===========TEXT===========\n",
      "RT @SNFonNBC: .@TeamGleason and @MalcolmJenkins share a special moment after the @Saints' win over the @Eagles ❤️\n",
      "\n",
      "(via @JClarkNBCS)\n",
      "https:…\n",
      "===========ANALYSIS===========\n",
      "Sentiment(polarity=0.5785714285714286, subjectivity=0.4857142857142857)\n",
      "======================\n",
      " \n",
      "===========TEXT===========\n",
      "@Eagles I hope the Rams beat the loving shit out of the Saints!! And break Kamara and Ingram’s fucking ankles in th… https://t.co/Zcl25L1Sa6\n",
      "===========ANALYSIS===========\n",
      "Sentiment(polarity=-0.10416666666666667, subjectivity=0.85)\n",
      "======================\n",
      " \n",
      "===========TEXT===========\n",
      "RT @DRUDGE_REPORT: SNAP: Angry EAGLES fan attacks girlfriend, puts dog in microwave... https://t.co/nhFkoAZfAM\n",
      "===========ANALYSIS===========\n",
      "Sentiment(polarity=-0.5, subjectivity=1.0)\n",
      "======================\n",
      " \n",
      "===========TEXT===========\n",
      "RT @BleacherReport: Former Saints safety Steve Gleason, who has ALS, had a pep talk with Malcolm Jenkins after the Eagles’ loss yesterday…\n",
      "===========ANALYSIS===========\n",
      "Sentiment(polarity=0.0, subjectivity=0.0)\n",
      "======================\n",
      " \n",
      "===========TEXT===========\n",
      "RT @EricRicheyVSN: Ok, here is the video of #Eagles DT Michael Bennett walking off the field after #SaintsEagles playoff game confronting c…\n",
      "===========ANALYSIS===========\n",
      "Sentiment(polarity=0.04999999999999999, subjectivity=0.45)\n",
      "======================\n",
      " \n",
      "===========TEXT===========\n",
      "RT @EaglesInsider: You've got questions for the #Eagles this offseason? I sure do. Here is my first list ...\n",
      "https://t.co/YAlmZar03l\n",
      "===========ANALYSIS===========\n",
      "Sentiment(polarity=0.375, subjectivity=0.611111111111111)\n",
      "======================\n",
      " \n",
      "===========TEXT===========\n",
      "so let me get this right:\n",
      "\n",
      "a company can support let’s say a sports team like the eagles. and men cheer. but the se… https://t.co/MEPd4looIo\n",
      "===========ANALYSIS===========\n",
      "Sentiment(polarity=0.2857142857142857, subjectivity=0.5357142857142857)\n",
      "======================\n",
      " \n",
      "===========TEXT===========\n",
      "The @Eagles Instagram story 😭\n",
      "===========ANALYSIS===========\n",
      "Sentiment(polarity=0.0, subjectivity=0.0)\n",
      "======================\n",
      " \n",
      "===========TEXT===========\n",
      "RT @Ike58Reese: Ran into a couple of @Eagles GREATS at @ChickiesnPetes in S Philly before the @MarksReeseWIP today!! @36westbrook @CutonDim…\n",
      "===========ANALYSIS===========\n",
      "Sentiment(polarity=0.0, subjectivity=0.0)\n",
      "======================\n",
      " \n",
      "===========TEXT===========\n",
      "RT @TwitDarius: Carson Wentz is coming back from back to back seasons of injury. 1 from his knee, the other is his back.\n",
      "\n",
      "The smartest thin…\n",
      "===========ANALYSIS===========\n",
      "Sentiment(polarity=-0.025, subjectivity=0.075)\n",
      "======================\n",
      " \n",
      "===========TEXT===========\n",
      "RT @BleacherReport: Former Saints safety Steve Gleason, who has ALS, had a pep talk with Malcolm Jenkins after the Eagles’ loss yesterday…\n",
      "===========ANALYSIS===========\n",
      "Sentiment(polarity=0.0, subjectivity=0.0)\n",
      "======================\n",
      " \n",
      "===========TEXT===========\n",
      "@Eagles @NickFoles Total class act !\n",
      "===========ANALYSIS===========\n",
      "Sentiment(polarity=0.0, subjectivity=0.75)\n",
      "======================\n",
      " \n"
     ]
    }
   ],
   "source": [
    "for tweet in public_tweets:\n",
    "    print('===========TEXT===========')\n",
    "    print(tweet.text)\n",
    "    analysis = TextBlob(tweet.text)\n",
    "    print('===========ANALYSIS===========')\n",
    "    print(analysis.sentiment)\n",
    "    print('======================')\n",
    "    print(' ')"
   ]
  },
  {
   "cell_type": "code",
   "execution_count": null,
   "metadata": {},
   "outputs": [],
   "source": []
  },
  {
   "cell_type": "code",
   "execution_count": null,
   "metadata": {},
   "outputs": [],
   "source": []
  }
 ],
 "metadata": {
  "kernelspec": {
   "display_name": "Python 3",
   "language": "python",
   "name": "python3"
  },
  "language_info": {
   "codemirror_mode": {
    "name": "ipython",
    "version": 3
   },
   "file_extension": ".py",
   "mimetype": "text/x-python",
   "name": "python",
   "nbconvert_exporter": "python",
   "pygments_lexer": "ipython3",
   "version": "3.6.5"
  }
 },
 "nbformat": 4,
 "nbformat_minor": 2
}
